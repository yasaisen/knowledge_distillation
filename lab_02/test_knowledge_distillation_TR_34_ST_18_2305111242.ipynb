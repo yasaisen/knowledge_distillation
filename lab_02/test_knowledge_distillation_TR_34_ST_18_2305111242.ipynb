{
 "cells": [
  {
   "cell_type": "code",
   "execution_count": 1,
   "metadata": {},
   "outputs": [],
   "source": [
    "# Necessary imports\n",
    "import torch\n",
    "from torch import nn\n",
    "import torch.nn.functional as F\n",
    "import torchvision\n",
    "from torchvision import transforms\n",
    "from torchinfo import summary\n",
    "from tqdm import tqdm\n",
    "from torch.utils.data import Dataset, DataLoader\n",
    "import os\n",
    "import pandas as pd\n",
    "import cv2\n",
    "from PIL import Image\n",
    "from sklearn.model_selection import train_test_split"
   ]
  },
  {
   "cell_type": "code",
   "execution_count": 2,
   "metadata": {},
   "outputs": [],
   "source": [
    "# For reproducibility\n",
    "torch.manual_seed(0)\n",
    "torch.backends.cudnn.benchmark = True"
   ]
  },
  {
   "cell_type": "code",
   "execution_count": 3,
   "metadata": {},
   "outputs": [],
   "source": [
    "def get_df(img_path):\n",
    "    image, label = [], []\n",
    "\n",
    "    i = 0\n",
    "\n",
    "    for get_img_name in os.listdir(img_path):\n",
    "        image += [os.path.join(img_path, get_img_name)]\n",
    "        label += [get_img_name.split('.')[0]]\n",
    "        \n",
    "        i = i+1\n",
    "\n",
    "    PathDF = pd.DataFrame({'image': image, 'label': label})\n",
    "    print(i)\n",
    "    PathDF.head()\n",
    "    return PathDF"
   ]
  },
  {
   "cell_type": "code",
   "execution_count": 4,
   "metadata": {},
   "outputs": [],
   "source": [
    "transform = transforms.Compose([\n",
    "            transforms.Resize([224,224]),\n",
    "            transforms.ToTensor()\n",
    "            ])"
   ]
  },
  {
   "cell_type": "code",
   "execution_count": 5,
   "metadata": {},
   "outputs": [],
   "source": [
    "class mod_Dataset(Dataset):\n",
    "    def __init__(self, path_df, transform=None):\n",
    "        self.path_df = path_df\n",
    "        self.transform = transform\n",
    "\n",
    "    def __len__(self):\n",
    "        return self.path_df.shape[0]\n",
    "    \n",
    "    def __getitem__(self, idx):\n",
    "        if self.transform is not None:\n",
    "            image = self.transform(Image.open(self.path_df.iloc[idx]['image']))\n",
    "\n",
    "            if self.path_df.iloc[idx]['label'] == 'cat':\n",
    "                label = torch.tensor([1, 0], dtype=torch.float32)\n",
    "            else:\n",
    "                label = torch.tensor([0, 1], dtype=torch.float32)\n",
    "\n",
    "        return image, label"
   ]
  },
  {
   "cell_type": "code",
   "execution_count": 6,
   "metadata": {},
   "outputs": [
    {
     "name": "stdout",
     "output_type": "stream",
     "text": [
      "25000\n"
     ]
    }
   ],
   "source": [
    "train_df = get_df('/home/yasaisen/Desktop/13_research/research_main/lab_02/dogs-vs-cats/train')\n",
    "\n",
    "validation_fraction = 0.15\n",
    "test_fraction = 0.10\n",
    "\n",
    "train2rest = validation_fraction + test_fraction\n",
    "test2valid = validation_fraction / train2rest\n",
    "\n",
    "\n",
    "train_df, rest = train_test_split(train_df, random_state=42,\n",
    "                                 test_size = train2rest)\n",
    "\n",
    "test_df, valid_df = train_test_split(rest, random_state=42,\n",
    "                                    test_size = test2valid)\n",
    "\n",
    "train_data = mod_Dataset(train_df, transform)\n",
    "valid_data = mod_Dataset(valid_df, transform)\n",
    "test_data = mod_Dataset(test_df, transform)\n",
    "\n",
    "train_loader = DataLoader(train_data, batch_size=8, shuffle=True , num_workers=0, pin_memory=True, drop_last=True)\n",
    "valid_loader = DataLoader(valid_data, batch_size=8, shuffle=False, num_workers=0)\n",
    "test_loader = DataLoader(test_data, batch_size=8, shuffle=False, num_workers=0)"
   ]
  },
  {
   "cell_type": "code",
   "execution_count": 7,
   "metadata": {},
   "outputs": [],
   "source": [
    "class TeacherModel(nn.Module):\n",
    "    def __init__(self, num_classes):\n",
    "        super().__init__()\n",
    "        self.base_model = torchvision.models.resnet34(weights=None)\n",
    "        self.fc1 = nn.Linear(1000, num_classes)\n",
    "\n",
    "    def forward(self, input):\n",
    "        output = self.base_model(input)\n",
    "        output = self.fc1(output)\n",
    "        return output"
   ]
  },
  {
   "cell_type": "code",
   "execution_count": 8,
   "metadata": {},
   "outputs": [],
   "source": [
    "class StudentModel(nn.Module):\n",
    "    def __init__(self, num_classes):\n",
    "        super().__init__()\n",
    "        self.base_model = torchvision.models.resnet18(weights=None)\n",
    "        self.fc1 = nn.Linear(1000, num_classes)\n",
    "\n",
    "    def forward(self, input):\n",
    "        output = self.base_model(input)\n",
    "        output = self.fc1(output)\n",
    "        return output"
   ]
  },
  {
   "cell_type": "code",
   "execution_count": 9,
   "metadata": {},
   "outputs": [],
   "source": [
    "# model = StudentModel(2)\n",
    "# # print(model)\n",
    "# t = torch.randn((32, 3, 224, 224))\n",
    "# print(t.shape)\n",
    "# get = model(t)\n",
    "# print(get.shape)"
   ]
  },
  {
   "cell_type": "code",
   "execution_count": 10,
   "metadata": {},
   "outputs": [],
   "source": [
    "def check_accuracy(loader, model, device):\n",
    "    num_correct = 0\n",
    "    num_samples = 0\n",
    "    model.eval()\n",
    "\n",
    "    with torch.no_grad():\n",
    "        for x, y in loader:\n",
    "            x = x.to(device)\n",
    "            y = y.to(device)\n",
    "\n",
    "            scores = model(x)\n",
    "            _, predictions = scores.max(1)\n",
    "            _, y = y.max(1)\n",
    "            num_correct += (predictions == y).sum()\n",
    "            num_samples += predictions.size(0)\n",
    "\n",
    "    model.train()\n",
    "    return (num_correct/num_samples).item()\n",
    "  \n",
    "\n",
    "def train_teacher(epochs):\n",
    "    device = torch.device(\"cuda\" if torch.cuda.is_available() else \"cpu\")\n",
    "    teacher_model = TeacherModel(2).to(device)\n",
    "    criterion = nn.CrossEntropyLoss()\n",
    "    optimizer = torch.optim.Adam(teacher_model.parameters(), lr=1e-4)\n",
    "\n",
    "\n",
    "    for epoch in range(epochs):\n",
    "        teacher_model.train()\n",
    "        losses = []\n",
    "\n",
    "        pbar = tqdm(train_loader, total=len(train_loader), position=0, leave=True, desc=f\"Epoch {epoch}\")\n",
    "        for data, targets in pbar:\n",
    "            data = data.to(device)\n",
    "            targets = targets.to(device)\n",
    "\n",
    "            # forward\n",
    "            scores = teacher_model(data)\n",
    "            loss = criterion(scores, targets)\n",
    "            losses.append(loss.item())\n",
    "            # backward\n",
    "            optimizer.zero_grad()\n",
    "            loss.backward()\n",
    "\n",
    "            optimizer.step()\n",
    "        \n",
    "        avg_loss = sum(losses) / len(losses)\n",
    "        acc = check_accuracy(test_loader, teacher_model, device)\n",
    "        print(f\"Loss:{avg_loss:.8f}\\tAccuracy:{acc:.8f}\")\n",
    "\n",
    "    return teacher_model"
   ]
  },
  {
   "cell_type": "code",
   "execution_count": 11,
   "metadata": {},
   "outputs": [
    {
     "name": "stderr",
     "output_type": "stream",
     "text": [
      "Epoch 0: 100%|██████████| 2343/2343 [01:41<00:00, 23.00it/s]\n"
     ]
    },
    {
     "name": "stdout",
     "output_type": "stream",
     "text": [
      "Loss:0.59953313\tAccuracy:0.71719998\n"
     ]
    },
    {
     "name": "stderr",
     "output_type": "stream",
     "text": [
      "Epoch 1: 100%|██████████| 2343/2343 [01:37<00:00, 24.07it/s]\n"
     ]
    },
    {
     "name": "stdout",
     "output_type": "stream",
     "text": [
      "Loss:0.45504716\tAccuracy:0.78679997\n"
     ]
    },
    {
     "name": "stderr",
     "output_type": "stream",
     "text": [
      "Epoch 2: 100%|██████████| 2343/2343 [01:39<00:00, 23.51it/s]\n"
     ]
    },
    {
     "name": "stdout",
     "output_type": "stream",
     "text": [
      "Loss:0.31818571\tAccuracy:0.88720000\n"
     ]
    }
   ],
   "source": [
    "get_teacher = train_teacher(3)"
   ]
  },
  {
   "cell_type": "code",
   "execution_count": 12,
   "metadata": {},
   "outputs": [],
   "source": [
    "def train_step(\n",
    "    teacher_model,\n",
    "    student_model,\n",
    "    optimizer,\n",
    "    student_loss_fn,\n",
    "    divergence_loss_fn,\n",
    "    temp,\n",
    "    alpha,\n",
    "    epoch,\n",
    "    device\n",
    "):\n",
    "    losses = []\n",
    "    pbar = tqdm(train_loader, total=len(train_loader), position=0, leave=True, desc=f\"Epoch {epoch}\")\n",
    "    for data, targets in pbar:\n",
    "        # Get data to cuda if possible\n",
    "        data = data.to(device)\n",
    "        targets = targets.to(device)\n",
    "\n",
    "        # forward\n",
    "        with torch.no_grad():\n",
    "            teacher_preds = teacher_model(data)\n",
    "\n",
    "        student_preds = student_model(data)\n",
    "        student_loss = student_loss_fn(student_preds, targets)\n",
    "        \n",
    "        ditillation_loss = divergence_loss_fn(\n",
    "            F.log_softmax(student_preds / temp, dim=1),\n",
    "            F.softmax(teacher_preds / temp, dim=1)\n",
    "        )\n",
    "        loss = alpha * student_loss + (1 - alpha) * ditillation_loss\n",
    "        losses.append(loss.item())\n",
    "\n",
    "        # backward\n",
    "        optimizer.zero_grad()\n",
    "        loss.backward()\n",
    "\n",
    "        optimizer.step()\n",
    "    \n",
    "    avg_loss = sum(losses) / len(losses)\n",
    "    return avg_loss\n",
    "  \n",
    "def main(epochs, teacher, student, temp=7, alpha=0.3):\n",
    "    device = torch.device(\"cuda\" if torch.cuda.is_available() else \"cpu\")\n",
    "    teacher = teacher.to(device)\n",
    "    student = student.to(device)\n",
    "    student_loss_fn = nn.CrossEntropyLoss()\n",
    "    divergence_loss_fn = nn.KLDivLoss(reduction=\"batchmean\")\n",
    "    optimizer = torch.optim.Adam(student.parameters(), lr=1e-4)\n",
    "\n",
    "    teacher.eval()\n",
    "    student.train()\n",
    "    for epoch in range(epochs):\n",
    "        loss = train_step(\n",
    "            teacher,\n",
    "            student,\n",
    "            optimizer,\n",
    "            student_loss_fn,\n",
    "            divergence_loss_fn,\n",
    "            temp,\n",
    "            alpha,\n",
    "            epoch,\n",
    "            device\n",
    "        )\n",
    "        acc = check_accuracy(test_loader, student, device)\n",
    "        print(f\"Loss:{loss:.8f}\\tAccuracy:{acc:.8f}\")"
   ]
  },
  {
   "cell_type": "code",
   "execution_count": 13,
   "metadata": {},
   "outputs": [],
   "source": [
    "get_student = StudentModel(2)"
   ]
  },
  {
   "cell_type": "code",
   "execution_count": 14,
   "metadata": {},
   "outputs": [
    {
     "name": "stderr",
     "output_type": "stream",
     "text": [
      "Epoch 0: 100%|██████████| 2343/2343 [01:29<00:00, 26.20it/s]\n"
     ]
    },
    {
     "name": "stdout",
     "output_type": "stream",
     "text": [
      "Loss:0.18874079\tAccuracy:0.79759997\n"
     ]
    },
    {
     "name": "stderr",
     "output_type": "stream",
     "text": [
      "Epoch 1: 100%|██████████| 2343/2343 [02:51<00:00, 13.64it/s]\n"
     ]
    },
    {
     "name": "stdout",
     "output_type": "stream",
     "text": [
      "Loss:0.12273631\tAccuracy:0.87279999\n"
     ]
    },
    {
     "name": "stderr",
     "output_type": "stream",
     "text": [
      "Epoch 2: 100%|██████████| 2343/2343 [03:08<00:00, 12.41it/s]\n"
     ]
    },
    {
     "name": "stdout",
     "output_type": "stream",
     "text": [
      "Loss:0.08168724\tAccuracy:0.89559996\n"
     ]
    }
   ],
   "source": [
    "main(3, get_teacher, get_student)"
   ]
  },
  {
   "cell_type": "code",
   "execution_count": 15,
   "metadata": {},
   "outputs": [],
   "source": [
    "def train_student(epochs):\n",
    "    device = torch.device(\"cuda\" if torch.cuda.is_available() else \"cpu\")\n",
    "    student_model = StudentModel(2).to(device)\n",
    "    criterion = nn.CrossEntropyLoss()\n",
    "    optimizer = torch.optim.Adam(student_model.parameters(), lr=1e-4)\n",
    "\n",
    "\n",
    "    for epoch in range(epochs):\n",
    "        student_model.train()\n",
    "        losses = []\n",
    "\n",
    "        pbar = tqdm(train_loader, total=len(train_loader), position=0, leave=True, desc=f\"Epoch {epoch}\")\n",
    "        for data, targets in pbar:\n",
    "            data = data.to(device)\n",
    "            targets = targets.to(device)\n",
    "\n",
    "            # forward\n",
    "            scores = student_model(data)\n",
    "            loss = criterion(scores, targets)\n",
    "            losses.append(loss.item())\n",
    "            # backward\n",
    "            optimizer.zero_grad()\n",
    "            loss.backward()\n",
    "\n",
    "            optimizer.step()\n",
    "        \n",
    "        avg_loss = sum(losses) / len(losses)\n",
    "        acc = check_accuracy(test_loader, student_model, device)\n",
    "        print(f\"Loss:{avg_loss:.8f}\\tAccuracy:{acc:.8f}\")\n",
    "\n",
    "    return student_model"
   ]
  },
  {
   "cell_type": "code",
   "execution_count": 16,
   "metadata": {},
   "outputs": [
    {
     "name": "stderr",
     "output_type": "stream",
     "text": [
      "Epoch 0: 100%|██████████| 2343/2343 [02:16<00:00, 17.13it/s]\n"
     ]
    },
    {
     "name": "stdout",
     "output_type": "stream",
     "text": [
      "Loss:0.58247208\tAccuracy:0.78880000\n"
     ]
    },
    {
     "name": "stderr",
     "output_type": "stream",
     "text": [
      "Epoch 1: 100%|██████████| 2343/2343 [02:29<00:00, 15.63it/s]\n"
     ]
    },
    {
     "name": "stdout",
     "output_type": "stream",
     "text": [
      "Loss:0.40024273\tAccuracy:0.85600001\n"
     ]
    },
    {
     "name": "stderr",
     "output_type": "stream",
     "text": [
      "Epoch 2: 100%|██████████| 2343/2343 [01:14<00:00, 31.41it/s]\n"
     ]
    },
    {
     "name": "stdout",
     "output_type": "stream",
     "text": [
      "Loss:0.27931961\tAccuracy:0.89239997\n"
     ]
    }
   ],
   "source": [
    "student_model = train_student(3)"
   ]
  }
 ],
 "metadata": {
  "kernelspec": {
   "display_name": "Python 3",
   "language": "python",
   "name": "python3"
  },
  "language_info": {
   "codemirror_mode": {
    "name": "ipython",
    "version": 3
   },
   "file_extension": ".py",
   "mimetype": "text/x-python",
   "name": "python",
   "nbconvert_exporter": "python",
   "pygments_lexer": "ipython3",
   "version": "3.8.16"
  },
  "orig_nbformat": 4
 },
 "nbformat": 4,
 "nbformat_minor": 2
}

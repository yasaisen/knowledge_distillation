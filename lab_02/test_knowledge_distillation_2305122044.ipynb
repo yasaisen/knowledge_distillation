{
 "cells": [
  {
   "cell_type": "code",
   "execution_count": 1,
   "metadata": {},
   "outputs": [],
   "source": [
    "# Necessary imports\n",
    "import torch\n",
    "from torch import nn\n",
    "import torch.nn.functional as F\n",
    "import torchvision\n",
    "from torchvision import transforms\n",
    "from torchinfo import summary\n",
    "from tqdm import tqdm\n",
    "from torch.utils.data import Dataset, DataLoader\n",
    "import os\n",
    "import pandas as pd\n",
    "import cv2\n",
    "from PIL import Image\n",
    "from sklearn.model_selection import train_test_split"
   ]
  },
  {
   "cell_type": "code",
   "execution_count": 2,
   "metadata": {},
   "outputs": [],
   "source": [
    "# For reproducibility\n",
    "# torch.manual_seed(0)\n",
    "# torch.backends.cudnn.benchmark = True"
   ]
  },
  {
   "cell_type": "code",
   "execution_count": 3,
   "metadata": {},
   "outputs": [
    {
     "name": "stdout",
     "output_type": "stream",
     "text": [
      "1\n",
      "True\n"
     ]
    }
   ],
   "source": [
    "print(torch.cuda.device_count())\n",
    "print(torch.cuda.is_available())"
   ]
  },
  {
   "cell_type": "code",
   "execution_count": 4,
   "metadata": {},
   "outputs": [],
   "source": [
    "# os.environ[\"CUDA_VISIBLE_DEVICES\"]=\"0\""
   ]
  },
  {
   "cell_type": "code",
   "execution_count": 5,
   "metadata": {},
   "outputs": [],
   "source": [
    "def get_df(img_path):\n",
    "    image, label = [], []\n",
    "\n",
    "    i = 0\n",
    "\n",
    "    for get_img_name in os.listdir(img_path):\n",
    "        image += [os.path.join(img_path, get_img_name)]\n",
    "        label += [get_img_name.split('.')[0]]\n",
    "        \n",
    "        i = i+1\n",
    "\n",
    "    PathDF = pd.DataFrame({'image': image, 'label': label})\n",
    "    print(i)\n",
    "    PathDF.head()\n",
    "    return PathDF"
   ]
  },
  {
   "cell_type": "code",
   "execution_count": 6,
   "metadata": {},
   "outputs": [],
   "source": [
    "transform = transforms.Compose([\n",
    "            transforms.Resize([224,224]),\n",
    "            transforms.ToTensor()\n",
    "            ])"
   ]
  },
  {
   "cell_type": "code",
   "execution_count": 7,
   "metadata": {},
   "outputs": [],
   "source": [
    "class mod_Dataset(Dataset):\n",
    "    def __init__(self, path_df, transform=None):\n",
    "        self.path_df = path_df\n",
    "        self.transform = transform\n",
    "\n",
    "    def __len__(self):\n",
    "        return self.path_df.shape[0]\n",
    "    \n",
    "    def __getitem__(self, idx):\n",
    "        if self.transform is not None:\n",
    "            image = self.transform(Image.open(self.path_df.iloc[idx]['image']))\n",
    "\n",
    "            if self.path_df.iloc[idx]['label'] == 'cat':\n",
    "                label = torch.tensor([1, 0], dtype=torch.float32)\n",
    "            else:\n",
    "                label = torch.tensor([0, 1], dtype=torch.float32)\n",
    "\n",
    "        return image, label"
   ]
  },
  {
   "cell_type": "code",
   "execution_count": 8,
   "metadata": {},
   "outputs": [],
   "source": [
    "ROOT_PATH = '/home/yasaisen/Desktop/13_research/research_main/lab_02'"
   ]
  },
  {
   "cell_type": "code",
   "execution_count": 9,
   "metadata": {},
   "outputs": [
    {
     "name": "stdout",
     "output_type": "stream",
     "text": [
      "25000\n"
     ]
    }
   ],
   "source": [
    "train_df = get_df(os.path.join(ROOT_PATH, 'dogs-vs-cats/train'))\n",
    "\n",
    "validation_fraction = 0.15\n",
    "test_fraction = 0.10\n",
    "\n",
    "train2rest = validation_fraction + test_fraction\n",
    "test2valid = validation_fraction / train2rest\n",
    "\n",
    "\n",
    "train_df, rest = train_test_split(train_df, random_state=42,\n",
    "                                 test_size = train2rest)\n",
    "\n",
    "test_df, valid_df = train_test_split(rest, random_state=42,\n",
    "                                    test_size = test2valid)\n",
    "\n",
    "train_data = mod_Dataset(train_df, transform)\n",
    "valid_data = mod_Dataset(valid_df, transform)\n",
    "test_data = mod_Dataset(test_df, transform)\n",
    "\n",
    "train_loader = DataLoader(train_data, batch_size=8, shuffle=True , num_workers=0, pin_memory=True, drop_last=True)\n",
    "valid_loader = DataLoader(valid_data, batch_size=8, shuffle=False, num_workers=0)\n",
    "test_loader = DataLoader(test_data, batch_size=8, shuffle=False, num_workers=0)"
   ]
  },
  {
   "cell_type": "code",
   "execution_count": 10,
   "metadata": {},
   "outputs": [],
   "source": [
    "class resnet18(nn.Module):\n",
    "    def __init__(self, num_classes):\n",
    "        super().__init__()\n",
    "        self.base_model = torchvision.models.resnet18(weights=None)\n",
    "        self.fc1 = nn.Linear(1000, num_classes)\n",
    "\n",
    "    def forward(self, input):\n",
    "        output = self.base_model(input)\n",
    "        output = self.fc1(output)\n",
    "        return output"
   ]
  },
  {
   "cell_type": "code",
   "execution_count": 11,
   "metadata": {},
   "outputs": [],
   "source": [
    "class resnet34(nn.Module):\n",
    "    def __init__(self, num_classes):\n",
    "        super().__init__()\n",
    "        self.base_model = torchvision.models.resnet34(weights=None)\n",
    "        self.fc1 = nn.Linear(1000, num_classes)\n",
    "\n",
    "    def forward(self, input):\n",
    "        output = self.base_model(input)\n",
    "        output = self.fc1(output)\n",
    "        return output"
   ]
  },
  {
   "cell_type": "code",
   "execution_count": 12,
   "metadata": {},
   "outputs": [],
   "source": [
    "# model = StudentModel(2)\n",
    "# # print(model)\n",
    "# t = torch.randn((32, 3, 224, 224))\n",
    "# print(t.shape)\n",
    "# get = model(t)\n",
    "# print(get.shape)"
   ]
  },
  {
   "cell_type": "code",
   "execution_count": 13,
   "metadata": {},
   "outputs": [],
   "source": [
    "def check_accuracy(loader, model, device):\n",
    "    num_correct = 0\n",
    "    num_samples = 0\n",
    "    model.eval()\n",
    "\n",
    "    with torch.no_grad():\n",
    "        for x, y in loader:\n",
    "            x = x.to(device)\n",
    "            y = y.to(device)\n",
    "\n",
    "            scores = model(x)\n",
    "            _, predictions = scores.max(1)\n",
    "            _, y = y.max(1)\n",
    "            num_correct += (predictions == y).sum()\n",
    "            num_samples += predictions.size(0)\n",
    "\n",
    "    model.train()\n",
    "    return (num_correct/num_samples).item()\n",
    "  \n",
    "\n",
    "def train(epochs, model):\n",
    "    device = torch.device(\"cuda\" if torch.cuda.is_available() else \"cpu\")\n",
    "    model = model.to(device)\n",
    "    criterion = nn.CrossEntropyLoss()\n",
    "    optimizer = torch.optim.Adam(model.parameters(), lr=1e-4)\n",
    "\n",
    "\n",
    "    for epoch in range(epochs):\n",
    "        model.train()\n",
    "        losses = []\n",
    "\n",
    "        pbar = tqdm(train_loader, total=len(train_loader), position=0, leave=True, desc=f\"Epoch {epoch}\")\n",
    "        for data, targets in pbar:\n",
    "            data = data.to(device)\n",
    "            targets = targets.to(device)\n",
    "\n",
    "            # forward\n",
    "            scores = model(data)\n",
    "            loss = criterion(scores, targets)\n",
    "            losses.append(loss.item())\n",
    "            # backward\n",
    "            optimizer.zero_grad()\n",
    "            loss.backward()\n",
    "\n",
    "            optimizer.step()\n",
    "        \n",
    "        avg_loss = sum(losses) / len(losses)\n",
    "        acc = check_accuracy(test_loader, model, device)\n",
    "        print(f\"Loss:{avg_loss:.8f}\\tAccuracy:{acc:.8f}\")\n",
    "\n",
    "    return model"
   ]
  },
  {
   "cell_type": "code",
   "execution_count": 14,
   "metadata": {},
   "outputs": [],
   "source": [
    "def train_step(\n",
    "    teacher_model,\n",
    "    student_model,\n",
    "    optimizer,\n",
    "    student_loss_fn,\n",
    "    divergence_loss_fn,\n",
    "    temp,\n",
    "    alpha,\n",
    "    epoch,\n",
    "    device\n",
    "):\n",
    "    losses = []\n",
    "    pbar = tqdm(train_loader, total=len(train_loader), position=0, leave=True, desc=f\"Epoch {epoch}\")\n",
    "    for data, targets in pbar:\n",
    "        # Get data to cuda if possible\n",
    "        data = data.to(device)\n",
    "        targets = targets.to(device)\n",
    "\n",
    "        # forward\n",
    "        with torch.no_grad():\n",
    "            teacher_preds = teacher_model(data)\n",
    "\n",
    "        student_preds = student_model(data)\n",
    "        student_loss = student_loss_fn(student_preds, targets)\n",
    "        \n",
    "        ditillation_loss = divergence_loss_fn(\n",
    "            F.log_softmax(student_preds / temp, dim=1),\n",
    "            F.softmax(teacher_preds / temp, dim=1)\n",
    "        )\n",
    "        loss = alpha * student_loss + (1 - alpha) * ditillation_loss\n",
    "        losses.append(loss.item())\n",
    "\n",
    "        # backward\n",
    "        optimizer.zero_grad()\n",
    "        loss.backward()\n",
    "\n",
    "        optimizer.step()\n",
    "    \n",
    "    avg_loss = sum(losses) / len(losses)\n",
    "    return avg_loss\n",
    "  \n",
    "def main(epochs, teacher, student, temp=7, alpha=0.3):\n",
    "    device = torch.device(\"cuda\" if torch.cuda.is_available() else \"cpu\")\n",
    "    teacher = teacher.to(device)\n",
    "    student = student.to(device)\n",
    "    student_loss_fn = nn.CrossEntropyLoss()\n",
    "    divergence_loss_fn = nn.KLDivLoss(reduction=\"batchmean\")\n",
    "    optimizer = torch.optim.Adam(student.parameters(), lr=1e-4)\n",
    "\n",
    "    teacher.eval()\n",
    "    student.train()\n",
    "    for epoch in range(epochs):\n",
    "        loss = train_step(\n",
    "            teacher,\n",
    "            student,\n",
    "            optimizer,\n",
    "            student_loss_fn,\n",
    "            divergence_loss_fn,\n",
    "            temp,\n",
    "            alpha,\n",
    "            epoch,\n",
    "            device\n",
    "        )\n",
    "        acc = check_accuracy(test_loader, student, device)\n",
    "        print(f\"Loss:{loss:.8f}\\tAccuracy:{acc:.8f}\")"
   ]
  },
  {
   "cell_type": "code",
   "execution_count": 15,
   "metadata": {},
   "outputs": [],
   "source": [
    "# resnet18_model = resnet18(2)\n",
    "# trained_resnet18_model = train(3, resnet18_model)\n",
    "# torch.save({'state_dict': trained_resnet18_model.state_dict(), 'model' : trained_resnet18_model,}, os.path.join(ROOT_PATH, 'resnet18.pth'))"
   ]
  },
  {
   "cell_type": "code",
   "execution_count": 16,
   "metadata": {},
   "outputs": [],
   "source": [
    "# resnet34_model = resnet34(2)\n",
    "# trained_resnet34_model = train(3, resnet34_model)\n",
    "# torch.save({'state_dict': trained_resnet34_model.state_dict(), 'model' : trained_resnet34_model,}, os.path.join(ROOT_PATH, 'resnet34.pth'))"
   ]
  },
  {
   "cell_type": "code",
   "execution_count": 17,
   "metadata": {},
   "outputs": [],
   "source": [
    "# trained_resnet18_model = torch.load(os.path.join(ROOT_PATH, 'resnet18.pth'))['model']\n",
    "# trained_resnet34_model = torch.load(os.path.join(ROOT_PATH, 'resnet34.pth'))['model']"
   ]
  },
  {
   "cell_type": "code",
   "execution_count": 18,
   "metadata": {},
   "outputs": [
    {
     "name": "stderr",
     "output_type": "stream",
     "text": [
      "Epoch 0: 100%|██████████| 2343/2343 [01:25<00:00, 27.54it/s]\n"
     ]
    },
    {
     "name": "stdout",
     "output_type": "stream",
     "text": [
      "Loss:0.19694479\tAccuracy:0.79519999\n"
     ]
    },
    {
     "name": "stderr",
     "output_type": "stream",
     "text": [
      "Epoch 1: 100%|██████████| 2343/2343 [01:24<00:00, 27.57it/s]\n"
     ]
    },
    {
     "name": "stdout",
     "output_type": "stream",
     "text": [
      "Loss:0.12703411\tAccuracy:0.78039998\n"
     ]
    },
    {
     "name": "stderr",
     "output_type": "stream",
     "text": [
      "Epoch 2: 100%|██████████| 2343/2343 [01:26<00:00, 27.08it/s]\n"
     ]
    },
    {
     "name": "stdout",
     "output_type": "stream",
     "text": [
      "Loss:0.08631540\tAccuracy:0.89239997\n"
     ]
    }
   ],
   "source": [
    "# TE=34, ST=18\n",
    "\n",
    "trained_resnet34_model = torch.load(os.path.join(ROOT_PATH, 'resnet34.pth'))['model']\n",
    "trained_resnet34_model = trained_resnet34_model.cuda()\n",
    "\n",
    "student_model = resnet18(2)\n",
    "student_model = student_model.cuda()\n",
    "\n",
    "main(3, trained_resnet34_model, student_model)"
   ]
  },
  {
   "cell_type": "code",
   "execution_count": 19,
   "metadata": {},
   "outputs": [
    {
     "name": "stderr",
     "output_type": "stream",
     "text": [
      "Epoch 0: 100%|██████████| 2343/2343 [01:56<00:00, 20.19it/s]\n"
     ]
    },
    {
     "name": "stdout",
     "output_type": "stream",
     "text": [
      "Loss:0.20787453\tAccuracy:0.76479995\n"
     ]
    },
    {
     "name": "stderr",
     "output_type": "stream",
     "text": [
      "Epoch 1: 100%|██████████| 2343/2343 [01:55<00:00, 20.21it/s]\n"
     ]
    },
    {
     "name": "stdout",
     "output_type": "stream",
     "text": [
      "Loss:0.13714884\tAccuracy:0.86119998\n"
     ]
    },
    {
     "name": "stderr",
     "output_type": "stream",
     "text": [
      "Epoch 2: 100%|██████████| 2343/2343 [01:56<00:00, 20.19it/s]\n"
     ]
    },
    {
     "name": "stdout",
     "output_type": "stream",
     "text": [
      "Loss:0.09248772\tAccuracy:0.90759999\n"
     ]
    }
   ],
   "source": [
    "# TE=18, ST=34\n",
    "\n",
    "trained_resnet18_model = torch.load(os.path.join(ROOT_PATH, 'resnet18.pth'))['model'].cuda()\n",
    "\n",
    "student_model = resnet34(2).cuda()\n",
    "main(3, trained_resnet18_model, student_model)"
   ]
  },
  {
   "cell_type": "code",
   "execution_count": 20,
   "metadata": {},
   "outputs": [
    {
     "name": "stderr",
     "output_type": "stream",
     "text": [
      "Epoch 0: 100%|██████████| 2343/2343 [02:07<00:00, 18.42it/s]\n"
     ]
    },
    {
     "name": "stdout",
     "output_type": "stream",
     "text": [
      "Loss:0.20791689\tAccuracy:0.77399999\n"
     ]
    },
    {
     "name": "stderr",
     "output_type": "stream",
     "text": [
      "Epoch 1: 100%|██████████| 2343/2343 [02:07<00:00, 18.38it/s]\n"
     ]
    },
    {
     "name": "stdout",
     "output_type": "stream",
     "text": [
      "Loss:0.13680270\tAccuracy:0.86519998\n"
     ]
    },
    {
     "name": "stderr",
     "output_type": "stream",
     "text": [
      "Epoch 2: 100%|██████████| 2343/2343 [02:07<00:00, 18.34it/s]\n"
     ]
    },
    {
     "name": "stdout",
     "output_type": "stream",
     "text": [
      "Loss:0.08978502\tAccuracy:0.90279996\n"
     ]
    }
   ],
   "source": [
    "# TE=34, ST=34\n",
    "\n",
    "trained_resnet34_model = torch.load(os.path.join(ROOT_PATH, 'resnet34.pth'))['model'].cuda()\n",
    "\n",
    "student_model = resnet34(2).cuda()\n",
    "main(3, trained_resnet34_model, student_model)"
   ]
  },
  {
   "cell_type": "code",
   "execution_count": 21,
   "metadata": {},
   "outputs": [
    {
     "name": "stderr",
     "output_type": "stream",
     "text": [
      "Epoch 0: 100%|██████████| 2343/2343 [02:04<00:00, 18.86it/s]\n"
     ]
    },
    {
     "name": "stdout",
     "output_type": "stream",
     "text": [
      "Loss:0.20509356\tAccuracy:0.79159999\n"
     ]
    },
    {
     "name": "stderr",
     "output_type": "stream",
     "text": [
      "Epoch 1: 100%|██████████| 2343/2343 [01:20<00:00, 28.95it/s]\n"
     ]
    },
    {
     "name": "stdout",
     "output_type": "stream",
     "text": [
      "Loss:0.13411855\tAccuracy:0.83959997\n"
     ]
    },
    {
     "name": "stderr",
     "output_type": "stream",
     "text": [
      "Epoch 2: 100%|██████████| 2343/2343 [02:07<00:00, 18.33it/s]\n"
     ]
    },
    {
     "name": "stdout",
     "output_type": "stream",
     "text": [
      "Loss:0.08611053\tAccuracy:0.89999998\n"
     ]
    }
   ],
   "source": [
    "# TE=18, ST=18\n",
    "\n",
    "trained_resnet18_model = torch.load(os.path.join(ROOT_PATH, 'resnet18.pth'))['model'].cuda()\n",
    "\n",
    "student_model = resnet18(2).cuda()\n",
    "main(3, trained_resnet18_model, student_model)"
   ]
  }
 ],
 "metadata": {
  "kernelspec": {
   "display_name": "Python 3",
   "language": "python",
   "name": "python3"
  },
  "language_info": {
   "codemirror_mode": {
    "name": "ipython",
    "version": 3
   },
   "file_extension": ".py",
   "mimetype": "text/x-python",
   "name": "python",
   "nbconvert_exporter": "python",
   "pygments_lexer": "ipython3",
   "version": "3.8.16"
  },
  "orig_nbformat": 4
 },
 "nbformat": 4,
 "nbformat_minor": 2
}
